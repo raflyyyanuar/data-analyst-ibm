{
 "cells": [
  {
   "cell_type": "code",
   "execution_count": 3,
   "metadata": {},
   "outputs": [],
   "source": [
    "from randomuser import RandomUser\n",
    "import pandas as pd"
   ]
  },
  {
   "cell_type": "code",
   "execution_count": 4,
   "metadata": {},
   "outputs": [],
   "source": [
    "r = RandomUser()"
   ]
  },
  {
   "cell_type": "code",
   "execution_count": 6,
   "metadata": {},
   "outputs": [
    {
     "data": {
      "text/plain": [
       "[<randomuser.RandomUser at 0x7f4a9c5a1000>,\n",
       " <randomuser.RandomUser at 0x7f4a9c5a1540>,\n",
       " <randomuser.RandomUser at 0x7f4aac12afe0>,\n",
       " <randomuser.RandomUser at 0x7f4aac12a170>,\n",
       " <randomuser.RandomUser at 0x7f4aac12a680>,\n",
       " <randomuser.RandomUser at 0x7f4aac129870>,\n",
       " <randomuser.RandomUser at 0x7f4aac129930>,\n",
       " <randomuser.RandomUser at 0x7f4a646a6e90>,\n",
       " <randomuser.RandomUser at 0x7f4a646a4eb0>,\n",
       " <randomuser.RandomUser at 0x7f4a646a6230>]"
      ]
     },
     "execution_count": 6,
     "metadata": {},
     "output_type": "execute_result"
    }
   ],
   "source": [
    "some_list = r.generate_users(10)\n",
    "some_list"
   ]
  },
  {
   "cell_type": "code",
   "execution_count": null,
   "metadata": {},
   "outputs": [],
   "source": []
  }
 ],
 "metadata": {
  "kernelspec": {
   "display_name": "Python 3",
   "language": "python",
   "name": "python3"
  },
  "language_info": {
   "codemirror_mode": {
    "name": "ipython",
    "version": 3
   },
   "file_extension": ".py",
   "mimetype": "text/x-python",
   "name": "python",
   "nbconvert_exporter": "python",
   "pygments_lexer": "ipython3",
   "version": "3.10.12"
  }
 },
 "nbformat": 4,
 "nbformat_minor": 2
}
